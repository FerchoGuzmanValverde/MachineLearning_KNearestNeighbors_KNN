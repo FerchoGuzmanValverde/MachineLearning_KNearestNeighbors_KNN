{
  "nbformat": 4,
  "nbformat_minor": 0,
  "metadata": {
    "colab": {
      "name": "KNearestNeighbors_KNN_IrisDataset.ipynb",
      "provenance": []
    },
    "kernelspec": {
      "name": "python3",
      "display_name": "Python 3"
    },
    "language_info": {
      "name": "python"
    }
  },
  "cells": [
    {
      "cell_type": "markdown",
      "source": [
        "**K Nearest Neighbors from Scratch with Iris Dataset**"
      ],
      "metadata": {
        "id": "F_jkI10deSda"
      }
    },
    {
      "cell_type": "code",
      "execution_count": 2,
      "metadata": {
        "id": "_9FJ5P11eHm4"
      },
      "outputs": [],
      "source": [
        "#Import libraries\n",
        "import numpy as np\n",
        "import matplotlib.pyplot as plt\n",
        "\n",
        "from sklearn import datasets\n",
        "from sklearn.model_selection import train_test_split\n",
        "from sklearn.metrics import accuracy_score\n",
        "from sklearn.manifold import TSNE"
      ]
    },
    {
      "cell_type": "code",
      "source": [
        "#Load dataset\n",
        "iris_dataset = datasets.load_iris()"
      ],
      "metadata": {
        "id": "l6dtitWefMZk"
      },
      "execution_count": 3,
      "outputs": []
    },
    {
      "cell_type": "code",
      "source": [
        "#Split into train and test sets\n",
        "X_train, X_test, y_train, y_test = train_test_split(iris_dataset.data, iris_dataset.target, test_size=0.3)"
      ],
      "metadata": {
        "id": "ZN91-MAmfZpz"
      },
      "execution_count": 4,
      "outputs": []
    },
    {
      "cell_type": "code",
      "source": [
        "#Define euclidean distance for margin\n",
        "def euclidean_distance(x1, x2):\n",
        "  return np.sqrt(np.sum((x1 - x2) ** 2))"
      ],
      "metadata": {
        "id": "FJgSPCGsf21y"
      },
      "execution_count": 5,
      "outputs": []
    },
    {
      "cell_type": "code",
      "source": [
        "#Define manhattan distance for margin\n",
        "def manhattan_distance(x1, x2):\n",
        "  return np.sum(np.abs(x1 - x2))"
      ],
      "metadata": {
        "id": "BdwkDKvRgYea"
      },
      "execution_count": 6,
      "outputs": []
    },
    {
      "cell_type": "code",
      "source": [
        "#Minkowski distance for margin\n",
        "def minkowski_distance(x1, x2, p):\n",
        "  return(np.sum(np.abs(x1 - x2) ** p)) ** (1 / p)"
      ],
      "metadata": {
        "id": "MK8rTopvgpIa"
      },
      "execution_count": 7,
      "outputs": []
    },
    {
      "cell_type": "code",
      "source": [
        "#Define nearest neighbors func to get the nearests\n",
        "def get_nearest_neighbors(x0, num_neighbors):\n",
        "  num_rows = X_train.shape[0]\n",
        "  distances = np.zeros((num_rows))\n",
        "\n",
        "  for i, x in enumerate(X_train):\n",
        "    if(x == x0).all():\n",
        "      continue\n",
        "    \n",
        "    distances[i] = minkowski_distance(x0, x, 2)\n",
        "  \n",
        "  return np.argsort(distances)[:num_neighbors]"
      ],
      "metadata": {
        "id": "tXcO7Q0bg8ZJ"
      },
      "execution_count": 8,
      "outputs": []
    },
    {
      "cell_type": "code",
      "source": [
        "#Define predict function\n",
        "def predict(x0, num_neighbors):\n",
        "  neighbors = get_nearest_neighbors(x0, num_neighbors)\n",
        "  classes = np.unique(y_train)\n",
        "  votes = {}\n",
        "\n",
        "  for cls in classes:\n",
        "    votes[cls] = np.sum(y_train[neighbors] == cls)\n",
        "  \n",
        "  return max(votes.keys(), key=(lambda k: votes[k]))"
      ],
      "metadata": {
        "id": "sFZ5_yRehnbM"
      },
      "execution_count": 9,
      "outputs": []
    },
    {
      "cell_type": "code",
      "source": [
        "#Predict \n",
        "predict(np.array([5.1, 3.5, 1.4, 0.2]), 3)"
      ],
      "metadata": {
        "colab": {
          "base_uri": "https://localhost:8080/"
        },
        "id": "8CIrl4eNiLIS",
        "outputId": "0e17c993-7d76-4d6b-c88c-670f120670f5"
      },
      "execution_count": 10,
      "outputs": [
        {
          "output_type": "execute_result",
          "data": {
            "text/plain": [
              "0"
            ]
          },
          "metadata": {},
          "execution_count": 10
        }
      ]
    },
    {
      "cell_type": "code",
      "source": [
        "#Test model\n",
        "def evaluate(num_neighbors, X, y):\n",
        "  y_pred = np.zeros((y.shape[0]))\n",
        "\n",
        "  for i, x in enumerate(X):\n",
        "    y_pred[i] = predict(x, num_neighbors)\n",
        "  \n",
        "  return accuracy_score(y, y_pred)"
      ],
      "metadata": {
        "id": "9rJnAJt9iWEy"
      },
      "execution_count": 13,
      "outputs": []
    },
    {
      "cell_type": "code",
      "source": [
        "print(\"Evaluation on training set\", evaluate(7, X_train, y_train))\n",
        "print(\"Evaluation on testing set\", evaluate(7, X_test, y_test))"
      ],
      "metadata": {
        "colab": {
          "base_uri": "https://localhost:8080/"
        },
        "id": "C5LTwWWAixeV",
        "outputId": "60bc7fbb-1d5d-4473-eaf5-6443f053dc31"
      },
      "execution_count": 14,
      "outputs": [
        {
          "output_type": "stream",
          "name": "stdout",
          "text": [
            "Evaluation on training set 0.9904761904761905\n",
            "Evaluation on testing set 0.9555555555555556\n"
          ]
        }
      ]
    },
    {
      "cell_type": "markdown",
      "source": [
        "**KNN with SKLearn**"
      ],
      "metadata": {
        "id": "TCKa0GFKjE6Z"
      }
    },
    {
      "cell_type": "code",
      "source": [
        "from sklearn.neighbors import KNeighborsClassifier\n",
        "classifier = KNeighborsClassifier(n_neighbors=7, metric='euclidean')\n",
        "classifier.fit(X_train, y_train)\n",
        "y_pred = classifier.predict(X_test)\n",
        "print('Accuracy on training', accuracy_score(y_train, classifier.predict(X_train)))\n",
        "print('Accuracy on testing', accuracy_score(y_test, y_pred))"
      ],
      "metadata": {
        "colab": {
          "base_uri": "https://localhost:8080/"
        },
        "id": "Lgk9eOXUjJlS",
        "outputId": "a2e5a197-52b0-4d47-a2cc-fcb222a23a5d"
      },
      "execution_count": 15,
      "outputs": [
        {
          "output_type": "stream",
          "name": "stdout",
          "text": [
            "Accuracy on training 0.9904761904761905\n",
            "Accuracy on testing 0.9555555555555556\n"
          ]
        }
      ]
    }
  ]
}